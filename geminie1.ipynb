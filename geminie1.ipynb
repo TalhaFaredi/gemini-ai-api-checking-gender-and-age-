{
 "cells": [
  {
   "cell_type": "markdown",
   "metadata": {},
   "source": [
    "## Run  pip install -q -U google-generativeai\n"
   ]
  },
  {
   "cell_type": "code",
   "execution_count": 2,
   "metadata": {},
   "outputs": [
    {
     "name": "stderr",
     "output_type": "stream",
     "text": [
      "c:\\Users\\Talha Fareedi\\AppData\\Local\\Programs\\Python\\Python310\\lib\\site-packages\\tqdm\\auto.py:21: TqdmWarning: IProgress not found. Please update jupyter and ipywidgets. See https://ipywidgets.readthedocs.io/en/stable/user_install.html\n",
      "  from .autonotebook import tqdm as notebook_tqdm\n"
     ]
    },
    {
     "name": "stdout",
     "output_type": "stream",
     "text": [
      "1. **Saitama** (One-Punch Man): Saitama is an absurdly powerful character who can defeat any opponent with a single punch. He is so strong that he is bored with his own power, and he often finds himself seeking out new challenges to keep himself entertained.\n",
      "\n",
      "2. **Goku** (Dragon Ball Super): Goku is a Saiyan warrior who has trained and fought his way to becoming one of the most powerful beings in the universe. He has a variety of techniques and abilities at his disposal, including the Kamehameha wave, the Spirit Bomb, and the Ultra Instinct transformation.\n",
      "\n",
      "3. **Naruto Uzumaki** (Naruto Shippuden): Naruto is a ninja who has inherited the powers of the Nine-Tailed Fox, a powerful tailed beast. He is skilled in a variety of ninjutsu, including the Rasengan, the Shadow Clone Jutsu, and the Six Paths Sage Mode.\n",
      "\n",
      "4. **Luffy D. Monkey** (One Piece): Luffy is a pirate who has eaten the Gomu Gomu no Mi, a devil fruit that has given him the ability to stretch his body like rubber. He is also a master of Haki, a spiritual energy that allows him to sense and attack his opponents.\n",
      "\n",
      "5. **Ichigo Kurosaki** (Bleach): Ichigo is a Substitute Soul Reaper who fights to protect the living world from Hollows, evil spirits that feed on human souls. He is skilled in swordsmanship, and he can also use a variety of Hollow powers, such as the Cero and the Gran Rey Cero.\n",
      "\n",
      "6. **Meliodas** (Seven Deadly Sins): Meliodas is the leader of the Seven Deadly Sins, a group of powerful knights who were banished from the kingdom of Liones. He is incredibly strong and skilled in combat, and he wields a powerful sword called Lostvayne.\n",
      "\n",
      "7. **Escanor** (Seven Deadly Sins): Escanor is a member of the Seven Deadly Sins who possesses the power of the sun. He is at his weakest at night, but as the sun rises, his power increases exponentially. At noon, he reaches his peak strength and is capable of defeating even the strongest opponents.\n",
      "\n",
      "8. **Rimuru Tempest** (That Time I Got Reincarnated as a Slime): Rimuru is a slime monster who has gained a variety of powers and abilities through his unique skills. He can absorb and imitate the abilities of other creatures, and he can also create and control clones of himself.\n",
      "\n",
      "9. **Anos Voldigoad** (The Misfit of Demon King Academy): Anos is the Demon King who was reincarnated after 2,000 years. He is incredibly powerful and skilled in magic, and he easily defeats all of the other students at the Demon King Academy.\n",
      "\n",
      "10. **Mob** (Mob Psycho 100): Mob is a middle school student who possesses incredible psychic powers. He is able to telekinesis, telepathy, and astral projection, and he can also create powerful energy blasts. However, Mob is a kind and gentle person who tries to avoid using his powers for violence.\n"
     ]
    }
   ],
   "source": [
    "import google.generativeai as genai\n",
    "\n",
    "genai.configure(api_key='key')  ## Generate Your key from   https://makersuite.google.com/app/apikey\n",
    "model = genai.GenerativeModel('gemini-pro')\n",
    "\n",
    "response = model.generate_content(\"Most PowerFull Anime Character of all time \")\n",
    "\n",
    "print(response.text)"
   ]
  },
  {
   "cell_type": "code",
   "execution_count": 4,
   "metadata": {},
   "outputs": [
    {
     "name": "stdout",
     "output_type": "stream",
     "text": [
      "1. **Your happiness is your responsibility:** No one else can make you happy. Happiness is a choice you have to make, even in difficult circumstances.\n",
      "\n",
      "2. **Relationships are hard work:** They take time, effort, and compromise. But they are also one of the most rewarding things in life.\n",
      "\n",
      "3. **You can't change people:** You can only change yourself. If you want to improve a relationship, you need to focus on changing your own behavior.\n",
      "\n",
      "4. **The past is gone:** You can't change it, so don't dwell on it. Focus on the present and the future.\n",
      "\n",
      "5. **The future is uncertain:** You can't predict what will happen, so don't worry about it. Instead, focus on living in the present and enjoying the moment.\n",
      "\n",
      "6. **You are not alone:** Everyone goes through tough times. There are people who care about you and want to help. Reach out to them when you need support.\n",
      "\n",
      "7. **You are stronger than you think:** You have overcome challenges in the past, and you will overcome them in the future. Believe in yourself.\n",
      "\n",
      "8. **You are capable of great things:** You have unique talents and abilities. Use them to make a difference in the world.\n",
      "\n",
      "9. **You are loved:** You are loved by your family, your friends, and even people you don't know. Remember that you are not alone.\n",
      "\n",
      "10. **Life is short:** Enjoy it while you can. Don't take anything for granted. Live each day to the fullest.\n"
     ]
    }
   ],
   "source": [
    "response = model.generate_content(\"The Longer You Live The More You realized \")\n",
    "\n",
    "print(response.text)"
   ]
  },
  {
   "cell_type": "code",
   "execution_count": 1,
   "metadata": {},
   "outputs": [
    {
     "name": "stderr",
     "output_type": "stream",
     "text": [
      "c:\\Users\\Talha Fareedi\\AppData\\Local\\Programs\\Python\\Python310\\lib\\site-packages\\tqdm\\auto.py:21: TqdmWarning: IProgress not found. Please update jupyter and ipywidgets. See https://ipywidgets.readthedocs.io/en/stable/user_install.html\n",
      "  from .autonotebook import tqdm as notebook_tqdm\n"
     ]
    }
   ],
   "source": [
    "import google.generativeai as genai\n",
    "import PIL.Image\n",
    "\n",
    "img = PIL.Image.open('c.jpg')\n",
    "\n",
    "genai.configure(api_key='Your Key')\n",
    "\n",
    "model = genai.GenerativeModel('gemini-pro-vision')\n",
    "\n"
   ]
  },
  {
   "cell_type": "code",
   "execution_count": 2,
   "metadata": {},
   "outputs": [
    {
     "name": "stdout",
     "output_type": "stream",
     "text": [
      " The estimated gender of the person in the photo is male.\n"
     ]
    }
   ],
   "source": [
    "response = model.generate_content([\"what is the estimated gender\", img])\n",
    "print(response.text)\n"
   ]
  },
  {
   "cell_type": "code",
   "execution_count": 3,
   "metadata": {},
   "outputs": [
    {
     "name": "stdout",
     "output_type": "stream",
     "text": [
      " The person looks young, possibly in their 20s.\n"
     ]
    }
   ],
   "source": [
    "response = model.generate_content([\"what is the age of person \", img])\n",
    "print(response.text)"
   ]
  },
  {
   "cell_type": "code",
   "execution_count": null,
   "metadata": {},
   "outputs": [],
   "source": []
  }
 ],
 "metadata": {
  "kernelspec": {
   "display_name": "Python 3",
   "language": "python",
   "name": "python3"
  },
  "language_info": {
   "codemirror_mode": {
    "name": "ipython",
    "version": 3
   },
   "file_extension": ".py",
   "mimetype": "text/x-python",
   "name": "python",
   "nbconvert_exporter": "python",
   "pygments_lexer": "ipython3",
   "version": "3.10.0"
  }
 },
 "nbformat": 4,
 "nbformat_minor": 2
}
